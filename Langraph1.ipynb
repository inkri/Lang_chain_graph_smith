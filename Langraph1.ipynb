{
 "cells": [
  {
   "cell_type": "markdown",
   "id": "be5de1ae-2276-4588-aaf9-2afac7202ee3",
   "metadata": {},
   "source": [
    "## LLM"
   ]
  },
  {
   "cell_type": "code",
   "execution_count": 1,
   "id": "50e392b1-e1d0-4eff-8814-78d892813545",
   "metadata": {},
   "outputs": [],
   "source": [
    "#Groq Gateway:\n",
    "#https://console.groq.com/docs/models\n",
    "#base_url=\"https://api.groq.com/openai/v1\","
   ]
  },
  {
   "cell_type": "code",
   "execution_count": 13,
   "id": "4c964397-c4f5-475d-b3c9-595f0518fd08",
   "metadata": {},
   "outputs": [
    {
     "data": {
      "text/plain": [
       "True"
      ]
     },
     "execution_count": 13,
     "metadata": {},
     "output_type": "execute_result"
    }
   ],
   "source": [
    "from langchain_groq import ChatGroq\n",
    "from dotenv import load_dotenv\n",
    "import os\n",
    "# Load environment variables from .env\n",
    "load_dotenv()"
   ]
  },
  {
   "cell_type": "code",
   "execution_count": 18,
   "id": "6101be67-a077-4f73-9c5a-f9e0b7b1131f",
   "metadata": {},
   "outputs": [],
   "source": [
    "groq_api_key=os.getenv('groq_api_key')"
   ]
  },
  {
   "cell_type": "code",
   "execution_count": 15,
   "id": "73b3e66b-73a0-4a08-8d96-c41aca1d6d74",
   "metadata": {},
   "outputs": [
    {
     "data": {
      "text/plain": [
       "ChatGroq(client=<groq.resources.chat.completions.Completions object at 0x0000027A9A39C950>, async_client=<groq.resources.chat.completions.AsyncCompletions object at 0x0000027A99B1EDD0>, model_name='Gemma2-9b-It', model_kwargs={}, groq_api_key=SecretStr('**********'))"
      ]
     },
     "execution_count": 15,
     "metadata": {},
     "output_type": "execute_result"
    }
   ],
   "source": [
    "llm=ChatGroq(groq_api_key=groq_api_key,model_name=\"Gemma2-9b-It\")\n",
    "llm"
   ]
  },
  {
   "cell_type": "markdown",
   "id": "29298207-2c9e-40f3-a08a-9355d154d427",
   "metadata": {},
   "source": [
    "## Agents"
   ]
  },
  {
   "cell_type": "code",
   "execution_count": 4,
   "id": "2e35abdb-4125-4247-a2fd-d2eb19903f12",
   "metadata": {},
   "outputs": [],
   "source": [
    "#LangGraph\n",
    "#https://www.langchain.com/langgraph\n",
    "#https://www.langchain.com/langsmith"
   ]
  },
  {
   "cell_type": "code",
   "execution_count": 16,
   "id": "166d2710-7e42-4843-9e25-3f23b91064c9",
   "metadata": {},
   "outputs": [],
   "source": [
    "api_key = os.getenv(\"LANGCHAIN_API_KEY\")\n",
    "project = os.getenv(\"LANGCHAIN_PROJECT\")\n",
    "tracing = os.getenv(\"LANGCHAIN_TRACING_V2\")\n",
    "\n",
    "# Set them as needed (if required by downstream packages)\n",
    "os.environ[\"LANGCHAIN_API_KEY\"] = api_key\n",
    "os.environ[\"LANGCHAIN_TRACING_V2\"] = tracing\n",
    "os.environ[\"LANGCHAIN_PROJECT\"] = project"
   ]
  },
  {
   "cell_type": "code",
   "execution_count": 6,
   "id": "ece8d423-80a3-4381-b98f-879f17d322e1",
   "metadata": {},
   "outputs": [],
   "source": [
    "from typing import Annotated\n",
    "from typing_extensions import TypedDict\n",
    "from langgraph.graph import StateGraph,START,END\n",
    "from langgraph.graph.message import add_messages"
   ]
  },
  {
   "cell_type": "code",
   "execution_count": 16,
   "id": "f90bc3ed-e93c-45ce-bf94-0e644c80d09f",
   "metadata": {},
   "outputs": [
    {
     "data": {
      "text/plain": [
       "<langgraph.graph.state.StateGraph at 0x273f69957d0>"
      ]
     },
     "execution_count": 16,
     "metadata": {},
     "output_type": "execute_result"
    }
   ],
   "source": [
    "class State(TypedDict):\n",
    "  # Messages have the type \"list\". The `add_messages` function\n",
    "    # in the annotation defines how this state key should be updated\n",
    "    # (in this case, it appends messages to the list, rather than overwriting them)\n",
    "  messages:Annotated[list,add_messages]\n",
    "\n",
    "graph_builder=StateGraph(State)\n",
    "graph_builder"
   ]
  },
  {
   "cell_type": "code",
   "execution_count": 17,
   "id": "3866831d-6c44-4429-b306-a6eb2eea9c10",
   "metadata": {},
   "outputs": [
    {
     "data": {
      "text/plain": [
       "<langgraph.graph.state.StateGraph at 0x273f69957d0>"
      ]
     },
     "execution_count": 17,
     "metadata": {},
     "output_type": "execute_result"
    }
   ],
   "source": [
    "def chatbot(state:State):\n",
    "  return {\"messages\":llm.invoke(state['messages'])}\n",
    "\n",
    "graph_builder.add_node(\"chatbot\",chatbot)\n",
    "graph_builder"
   ]
  },
  {
   "cell_type": "code",
   "execution_count": 18,
   "id": "1cf81734-80d9-4b05-97bd-2222c3795042",
   "metadata": {},
   "outputs": [],
   "source": [
    "graph_builder.add_edge(START,\"chatbot\")\n",
    "graph_builder.add_edge(\"chatbot\",END)\n",
    "graph=graph_builder.compile()"
   ]
  },
  {
   "cell_type": "code",
   "execution_count": 19,
   "id": "cf3ddfa5-3972-45bb-bc47-e1cbe8e9fe3f",
   "metadata": {},
   "outputs": [
    {
     "data": {
      "image/png": "[encoded data removed]",
      "text/plain": [
       "<IPython.core.display.Image object>"
      ]
     },
     "metadata": {},
     "output_type": "display_data"
    }
   ],
   "source": [
    "from IPython.display import Image, display\n",
    "try:\n",
    "  display(Image(graph.get_graph().draw_mermaid_png()))\n",
    "except Exception:\n",
    "  pass"
   ]
  },
  {
   "cell_type": "code",
   "execution_count": 15,
   "id": "73b9773e-e4a6-4666-8026-539f38560b6d",
   "metadata": {},
   "outputs": [
    {
     "name": "stdin",
     "output_type": "stream",
     "text": [
      "User:  Hi\n"
     ]
    },
    {
     "name": "stdout",
     "output_type": "stream",
     "text": [
      "dict_values([{'messages': AIMessage(content='Hi! 👋\\n\\nHow can I help you today? 😊\\n', additional_kwargs={}, response_metadata={'token_usage': {'completion_tokens': 15, 'prompt_tokens': 11, 'total_tokens': 26, 'completion_time': 0.027272727, 'prompt_time': 0.001944666, 'queue_time': 0.231736325, 'total_time': 0.029217393}, 'model_name': 'Gemma2-9b-It', 'system_fingerprint': 'fp_10c08bf97d', 'finish_reason': 'stop', 'logprobs': None}, id='run-0473a410-bc51-4fea-acee-1e7bf36a0b99-0', usage_metadata={'input_tokens': 11, 'output_tokens': 15, 'total_tokens': 26})}])\n",
      "content='Hi! 👋\\n\\nHow can I help you today? 😊\\n' additional_kwargs={} response_metadata={'token_usage': {'completion_tokens': 15, 'prompt_tokens': 11, 'total_tokens': 26, 'completion_time': 0.027272727, 'prompt_time': 0.001944666, 'queue_time': 0.231736325, 'total_time': 0.029217393}, 'model_name': 'Gemma2-9b-It', 'system_fingerprint': 'fp_10c08bf97d', 'finish_reason': 'stop', 'logprobs': None} id='run-0473a410-bc51-4fea-acee-1e7bf36a0b99-0' usage_metadata={'input_tokens': 11, 'output_tokens': 15, 'total_tokens': 26}\n",
      "Assistant: Hi! 👋\n",
      "\n",
      "How can I help you today? 😊\n",
      "\n"
     ]
    },
    {
     "name": "stdin",
     "output_type": "stream",
     "text": [
      "User:  whats todays date?\n"
     ]
    },
    {
     "name": "stdout",
     "output_type": "stream",
     "text": [
      "dict_values([{'messages': AIMessage(content=\"Today's date is October 26, 2023.\\n\", additional_kwargs={}, response_metadata={'token_usage': {'completion_tokens': 19, 'prompt_tokens': 13, 'total_tokens': 32, 'completion_time': 0.034545455, 'prompt_time': 0.001905265, 'queue_time': 0.23278558400000002, 'total_time': 0.03645072}, 'model_name': 'Gemma2-9b-It', 'system_fingerprint': 'fp_10c08bf97d', 'finish_reason': 'stop', 'logprobs': None}, id='run-46f54db5-fe43-42c3-8393-ac93fdd69434-0', usage_metadata={'input_tokens': 13, 'output_tokens': 19, 'total_tokens': 32})}])\n",
      "content=\"Today's date is October 26, 2023.\\n\" additional_kwargs={} response_metadata={'token_usage': {'completion_tokens': 19, 'prompt_tokens': 13, 'total_tokens': 32, 'completion_time': 0.034545455, 'prompt_time': 0.001905265, 'queue_time': 0.23278558400000002, 'total_time': 0.03645072}, 'model_name': 'Gemma2-9b-It', 'system_fingerprint': 'fp_10c08bf97d', 'finish_reason': 'stop', 'logprobs': None} id='run-46f54db5-fe43-42c3-8393-ac93fdd69434-0' usage_metadata={'input_tokens': 13, 'output_tokens': 19, 'total_tokens': 32}\n",
      "Assistant: Today's date is October 26, 2023.\n",
      "\n"
     ]
    },
    {
     "name": "stdin",
     "output_type": "stream",
     "text": [
      "User:  bye\n"
     ]
    },
    {
     "name": "stdout",
     "output_type": "stream",
     "text": [
      "dict_values([{'messages': AIMessage(content='Bye! Have a great day. 👋\\n', additional_kwargs={}, response_metadata={'token_usage': {'completion_tokens': 11, 'prompt_tokens': 11, 'total_tokens': 22, 'completion_time': 0.02, 'prompt_time': 0.001924715, 'queue_time': 0.23386474200000001, 'total_time': 0.021924715}, 'model_name': 'Gemma2-9b-It', 'system_fingerprint': 'fp_10c08bf97d', 'finish_reason': 'stop', 'logprobs': None}, id='run-7dda0e23-34dc-45ca-a58b-faaea8f4a203-0', usage_metadata={'input_tokens': 11, 'output_tokens': 11, 'total_tokens': 22})}])\n",
      "content='Bye! Have a great day. 👋\\n' additional_kwargs={} response_metadata={'token_usage': {'completion_tokens': 11, 'prompt_tokens': 11, 'total_tokens': 22, 'completion_time': 0.02, 'prompt_time': 0.001924715, 'queue_time': 0.23386474200000001, 'total_time': 0.021924715}, 'model_name': 'Gemma2-9b-It', 'system_fingerprint': 'fp_10c08bf97d', 'finish_reason': 'stop', 'logprobs': None} id='run-7dda0e23-34dc-45ca-a58b-faaea8f4a203-0' usage_metadata={'input_tokens': 11, 'output_tokens': 11, 'total_tokens': 22}\n",
      "Assistant: Bye! Have a great day. 👋\n",
      "\n"
     ]
    },
    {
     "name": "stdin",
     "output_type": "stream",
     "text": [
      "User:  q\n"
     ]
    },
    {
     "name": "stdout",
     "output_type": "stream",
     "text": [
      "Good Bye\n"
     ]
    }
   ],
   "source": [
    "while True:\n",
    "  user_input=input(\"User: \")\n",
    "  if user_input.lower() in [\"quit\",\"q\"]:\n",
    "    print(\"Good Bye\")\n",
    "    break\n",
    "  for event in graph.stream({'messages':(\"user\",user_input)}):\n",
    "    print(event.values())\n",
    "    for value in event.values():\n",
    "      print(value['messages'])\n",
    "      print(\"Assistant:\",value[\"messages\"].content)"
   ]
  },
  {
   "cell_type": "code",
   "execution_count": null,
   "id": "fab8b6b3-ad47-4a63-b653-e5977f17d8c1",
   "metadata": {},
   "outputs": [],
   "source": []
  }
 ],
 "metadata": {
  "kernelspec": {
   "display_name": "Python 3 (ipykernel)",
   "language": "python",
   "name": "python3"
  },
  "language_info": {
   "codemirror_mode": {
    "name": "ipython",
    "version": 3
   },
   "file_extension": ".py",
   "mimetype": "text/x-python",
   "name": "python",
   "nbconvert_exporter": "python",
   "pygments_lexer": "ipython3",
   "version": "3.11.11"
  }
 },
 "nbformat": 4,
 "nbformat_minor": 5
}
