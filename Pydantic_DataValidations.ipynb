{
 "cells": [
  {
   "cell_type": "code",
   "execution_count": 25,
   "id": "0133e34b-fc67-4d64-8673-139cf2fe5149",
   "metadata": {},
   "outputs": [],
   "source": [
    "#pip install ipykernel\n",
    "#pip install pydantic\n",
    "#!pip install email-validator"
   ]
  },
  {
   "cell_type": "markdown",
   "id": "a804d1f9-18a9-4330-8172-bdbfbc0cfbdc",
   "metadata": {},
   "source": [
    "## Define and Use a Pydantic Model (v1 & v2 compatible)"
   ]
  },
  {
   "cell_type": "code",
   "execution_count": 4,
   "id": "288d67c4-bd87-46d6-8091-f70676bf7055",
   "metadata": {},
   "outputs": [
    {
     "name": "stdout",
     "output_type": "stream",
     "text": [
      "id=1 name='Alice' email='alice@example.com' age=30 interests=['reading', 'traveling']\n",
      "{\n",
      "  \"id\": 1,\n",
      "  \"name\": \"Alice\",\n",
      "  \"email\": \"alice@example.com\",\n",
      "  \"age\": 30,\n",
      "  \"interests\": [\n",
      "    \"reading\",\n",
      "    \"traveling\"\n",
      "  ]\n",
      "}\n"
     ]
    }
   ],
   "source": [
    "from pydantic import BaseModel, Field\n",
    "from typing import List, Optional\n",
    "\n",
    "class User(BaseModel):\n",
    "    id: int\n",
    "    name: str\n",
    "    email: str\n",
    "    age: Optional[int] = Field(default=None, ge=0, le=120)\n",
    "    interests: List[str] = []\n",
    "\n",
    "# Creating a user instance\n",
    "user_data = {\n",
    "    \"id\": 1,\n",
    "    \"name\": \"Alice\",\n",
    "    \"email\": \"alice@example.com\",\n",
    "    \"age\": 30,\n",
    "    \"interests\": [\"reading\", \"traveling\"]\n",
    "}\n",
    "\n",
    "user = User(**user_data)\n",
    "\n",
    "# Print user as an object\n",
    "print(user)\n",
    "\n",
    "# Correct way to print as JSON in Pydantic v2\n",
    "print(user.model_dump_json(indent=2))"
   ]
  },
  {
   "cell_type": "code",
   "execution_count": 5,
   "id": "7721b793-700a-44aa-819e-96026081a203",
   "metadata": {},
   "outputs": [
    {
     "name": "stdout",
     "output_type": "stream",
     "text": [
      "Validation Error: 2 validation errors for User\n",
      "id\n",
      "  Input should be a valid integer, unable to parse string as an integer [type=int_parsing, input_value='not-a-number', input_type=str]\n",
      "    For further information visit https://errors.pydantic.dev/2.10/v/int_parsing\n",
      "age\n",
      "  Input should be greater than or equal to 0 [type=greater_than_equal, input_value=-5, input_type=int]\n",
      "    For further information visit https://errors.pydantic.dev/2.10/v/greater_than_equal\n"
     ]
    }
   ],
   "source": [
    "bad_user_data = {\n",
    "    \"id\": \"not-a-number\",\n",
    "    \"name\": \"Bob\",\n",
    "    \"email\": \"bob@example.com\",\n",
    "    \"age\": -5\n",
    "}\n",
    "\n",
    "try:\n",
    "    user = User(**bad_user_data)\n",
    "except Exception as e:\n",
    "    print(\"Validation Error:\", e)"
   ]
  },
  {
   "cell_type": "markdown",
   "id": "087767a4-0838-4aac-8636-415df3d0a350",
   "metadata": {},
   "source": [
    "## Nested Models"
   ]
  },
  {
   "cell_type": "code",
   "execution_count": 6,
   "id": "ab81661f-66fe-4b5c-ba1d-6f4da710036f",
   "metadata": {},
   "outputs": [
    {
     "name": "stdout",
     "output_type": "stream",
     "text": [
      "{\n",
      "  \"id\": 101,\n",
      "  \"name\": \"John Doe\",\n",
      "  \"email\": \"john@example.com\",\n",
      "  \"address\": {\n",
      "    \"street\": \"123 Main St\",\n",
      "    \"city\": \"Springfield\",\n",
      "    \"zipcode\": \"12345\"\n",
      "  }\n",
      "}\n"
     ]
    }
   ],
   "source": [
    "from pydantic import BaseModel\n",
    "from typing import List\n",
    "\n",
    "class Address(BaseModel):\n",
    "    street: str\n",
    "    city: str\n",
    "    zipcode: str\n",
    "\n",
    "class User(BaseModel):\n",
    "    id: int\n",
    "    name: str\n",
    "    email: str\n",
    "    address: Address\n",
    "\n",
    "user_data = {\n",
    "    \"id\": 101,\n",
    "    \"name\": \"John Doe\",\n",
    "    \"email\": \"john@example.com\",\n",
    "    \"address\": {\n",
    "        \"street\": \"123 Main St\",\n",
    "        \"city\": \"Springfield\",\n",
    "        \"zipcode\": \"12345\"\n",
    "    }\n",
    "}\n",
    "\n",
    "user = User(**user_data)\n",
    "print(user.model_dump_json(indent=2))"
   ]
  },
  {
   "cell_type": "markdown",
   "id": "659fd84b-3a12-46dc-a5fb-b0be079aa322",
   "metadata": {},
   "source": [
    "## Automatic Type Conversion"
   ]
  },
  {
   "cell_type": "code",
   "execution_count": 7,
   "id": "0486179f-8513-4d2b-a86e-648cb8a6d3d8",
   "metadata": {},
   "outputs": [
    {
     "name": "stdout",
     "output_type": "stream",
     "text": [
      "id=10 price=199.99 in_stock=True\n"
     ]
    }
   ],
   "source": [
    "from pydantic import BaseModel\n",
    "\n",
    "class Product(BaseModel):\n",
    "    id: int\n",
    "    price: float\n",
    "    in_stock: bool\n",
    "\n",
    "product = Product(id='10', price='199.99', in_stock='true')\n",
    "print(product)"
   ]
  },
  {
   "cell_type": "markdown",
   "id": "c2645750-2ecd-4cc0-bd25-047e2d01f581",
   "metadata": {},
   "source": [
    "## Validation with Custom Errors"
   ]
  },
  {
   "cell_type": "code",
   "execution_count": 10,
   "id": "b7a1e2d9-b501-49da-9a34-c2f94fc18774",
   "metadata": {},
   "outputs": [
    {
     "name": "stdout",
     "output_type": "stream",
     "text": [
      "username='user1' password='mysecurepwd'\n"
     ]
    },
    {
     "name": "stderr",
     "output_type": "stream",
     "text": [
      "C:\\Users\\Abhishek Jaiswal\\AppData\\Local\\Temp\\ipykernel_5788\\4112350707.py:7: PydanticDeprecatedSince20: Pydantic V1 style `@validator` validators are deprecated. You should migrate to Pydantic V2 style `@field_validator` validators, see the migration guide for more details. Deprecated in Pydantic V2.0 to be removed in V3.0. See Pydantic V2 Migration Guide at https://errors.pydantic.dev/2.10/migration/\n",
      "  @validator(\"password\")\n"
     ]
    }
   ],
   "source": [
    "from pydantic import BaseModel, validator\n",
    "\n",
    "class Signup(BaseModel):\n",
    "    username: str\n",
    "    password: str\n",
    "\n",
    "    @validator(\"password\")\n",
    "    def strong_password(cls, v):\n",
    "        if len(v) < 8:\n",
    "            raise ValueError(\"Password must be at least 8 characters long\")\n",
    "        return v\n",
    "\n",
    "signup = Signup(username=\"user1\", password=\"mysecurepwd\")  # ✅\n",
    "#signup = Signup(username=\"user1\", password=\"123\")  # ❌ Raises validation error\n",
    "print(signup)"
   ]
  },
  {
   "cell_type": "markdown",
   "id": "0a3a9fdc-77a3-48b0-b2f4-180555809386",
   "metadata": {},
   "source": [
    "## Environment-Based Settings with BaseSettings"
   ]
  },
  {
   "cell_type": "code",
   "execution_count": 11,
   "id": "a42fee2f-0ee3-4228-b8a2-0bc62875b880",
   "metadata": {},
   "outputs": [
    {
     "ename": "PydanticImportError",
     "evalue": "`BaseSettings` has been moved to the `pydantic-settings` package. See https://docs.pydantic.dev/2.10/migration/#basesettings-has-moved-to-pydantic-settings for more details.\n\nFor further information visit https://errors.pydantic.dev/2.10/u/import-error",
     "output_type": "error",
     "traceback": [
      "\u001b[1;31m---------------------------------------------------------------------------\u001b[0m",
      "\u001b[1;31mPydanticImportError\u001b[0m                       Traceback (most recent call last)",
      "Cell \u001b[1;32mIn[11], line 1\u001b[0m\n\u001b[1;32m----> 1\u001b[0m \u001b[38;5;28;01mfrom\u001b[39;00m\u001b[38;5;250m \u001b[39m\u001b[38;5;21;01mpydantic\u001b[39;00m\u001b[38;5;250m \u001b[39m\u001b[38;5;28;01mimport\u001b[39;00m BaseSettings\n\u001b[0;32m      3\u001b[0m \u001b[38;5;28;01mclass\u001b[39;00m\u001b[38;5;250m \u001b[39m\u001b[38;5;21;01mSettings\u001b[39;00m(BaseSettings):\n\u001b[0;32m      4\u001b[0m     db_url: \u001b[38;5;28mstr\u001b[39m\n",
      "File \u001b[1;32m~\\.conda\\envs\\myenv\\Lib\\site-packages\\pydantic\\__init__.py:412\u001b[0m, in \u001b[0;36m__getattr__\u001b[1;34m(attr_name)\u001b[0m\n\u001b[0;32m    410\u001b[0m dynamic_attr \u001b[38;5;241m=\u001b[39m _dynamic_imports\u001b[38;5;241m.\u001b[39mget(attr_name)\n\u001b[0;32m    411\u001b[0m \u001b[38;5;28;01mif\u001b[39;00m dynamic_attr \u001b[38;5;129;01mis\u001b[39;00m \u001b[38;5;28;01mNone\u001b[39;00m:\n\u001b[1;32m--> 412\u001b[0m     \u001b[38;5;28;01mreturn\u001b[39;00m \u001b[43m_getattr_migration\u001b[49m\u001b[43m(\u001b[49m\u001b[43mattr_name\u001b[49m\u001b[43m)\u001b[49m\n\u001b[0;32m    414\u001b[0m package, module_name \u001b[38;5;241m=\u001b[39m dynamic_attr\n\u001b[0;32m    416\u001b[0m \u001b[38;5;28;01mif\u001b[39;00m module_name \u001b[38;5;241m==\u001b[39m \u001b[38;5;124m'\u001b[39m\u001b[38;5;124m__module__\u001b[39m\u001b[38;5;124m'\u001b[39m:\n",
      "File \u001b[1;32m~\\.conda\\envs\\myenv\\Lib\\site-packages\\pydantic\\_migration.py:296\u001b[0m, in \u001b[0;36mgetattr_migration.<locals>.wrapper\u001b[1;34m(name)\u001b[0m\n\u001b[0;32m    294\u001b[0m     \u001b[38;5;28;01mreturn\u001b[39;00m import_string(REDIRECT_TO_V1[import_path])\n\u001b[0;32m    295\u001b[0m \u001b[38;5;28;01mif\u001b[39;00m import_path \u001b[38;5;241m==\u001b[39m \u001b[38;5;124m'\u001b[39m\u001b[38;5;124mpydantic:BaseSettings\u001b[39m\u001b[38;5;124m'\u001b[39m:\n\u001b[1;32m--> 296\u001b[0m     \u001b[38;5;28;01mraise\u001b[39;00m PydanticImportError(\n\u001b[0;32m    297\u001b[0m         \u001b[38;5;124m'\u001b[39m\u001b[38;5;124m`BaseSettings` has been moved to the `pydantic-settings` package. \u001b[39m\u001b[38;5;124m'\u001b[39m\n\u001b[0;32m    298\u001b[0m         \u001b[38;5;124mf\u001b[39m\u001b[38;5;124m'\u001b[39m\u001b[38;5;124mSee https://docs.pydantic.dev/\u001b[39m\u001b[38;5;132;01m{\u001b[39;00mversion_short()\u001b[38;5;132;01m}\u001b[39;00m\u001b[38;5;124m/migration/#basesettings-has-moved-to-pydantic-settings \u001b[39m\u001b[38;5;124m'\u001b[39m\n\u001b[0;32m    299\u001b[0m         \u001b[38;5;124m'\u001b[39m\u001b[38;5;124mfor more details.\u001b[39m\u001b[38;5;124m'\u001b[39m\n\u001b[0;32m    300\u001b[0m     )\n\u001b[0;32m    301\u001b[0m \u001b[38;5;28;01mif\u001b[39;00m import_path \u001b[38;5;129;01min\u001b[39;00m REMOVED_IN_V2:\n\u001b[0;32m    302\u001b[0m     \u001b[38;5;28;01mraise\u001b[39;00m PydanticImportError(\u001b[38;5;124mf\u001b[39m\u001b[38;5;124m'\u001b[39m\u001b[38;5;124m`\u001b[39m\u001b[38;5;132;01m{\u001b[39;00mimport_path\u001b[38;5;132;01m}\u001b[39;00m\u001b[38;5;124m` has been removed in V2.\u001b[39m\u001b[38;5;124m'\u001b[39m)\n",
      "\u001b[1;31mPydanticImportError\u001b[0m: `BaseSettings` has been moved to the `pydantic-settings` package. See https://docs.pydantic.dev/2.10/migration/#basesettings-has-moved-to-pydantic-settings for more details.\n\nFor further information visit https://errors.pydantic.dev/2.10/u/import-error"
     ]
    }
   ],
   "source": [
    "from pydantic import BaseSettings\n",
    "\n",
    "class Settings(BaseSettings):\n",
    "    db_url: str\n",
    "    redis_url: str = \"redis://localhost\"\n",
    "\n",
    "    class Config:\n",
    "        env_file = \".env\"\n",
    "\n",
    "settings = Settings()\n",
    "print(settings.db_url)\n",
    "print(settings.redis_url)\n",
    "\n",
    "#.env file has DB_URL=postgresql://localhost/mydb"
   ]
  },
  {
   "cell_type": "markdown",
   "id": "2c618801-634d-4db5-9fa1-44cfe413b8fa",
   "metadata": {},
   "source": [
    "## Model to Dictionary and Back"
   ]
  },
  {
   "cell_type": "code",
   "execution_count": 12,
   "id": "3fb02013-8b42-4530-8eb0-c039e7ba0ba1",
   "metadata": {},
   "outputs": [
    {
     "name": "stdout",
     "output_type": "stream",
     "text": [
      "{'id': 101, 'name': 'John Doe', 'email': 'john@example.com', 'address': {'street': '123 Main St', 'city': 'Springfield', 'zipcode': '12345'}}\n",
      "id=101 name='John Doe' email='john@example.com' address=Address(street='123 Main St', city='Springfield', zipcode='12345')\n"
     ]
    }
   ],
   "source": [
    "user_dict = user.model_dump()\n",
    "print(user_dict)\n",
    "\n",
    "# Create a model again from dict\n",
    "user2 = User.model_validate(user_dict)\n",
    "print(user2)"
   ]
  },
  {
   "cell_type": "markdown",
   "id": "3e60429e-4697-45b6-af34-b54f3be85f57",
   "metadata": {},
   "source": [
    "## Default Factories (e.g. UUIDs or timestamps)\n"
   ]
  },
  {
   "cell_type": "code",
   "execution_count": 13,
   "id": "bc91673f-3375-4398-a539-e37175d437e4",
   "metadata": {},
   "outputs": [
    {
     "name": "stdout",
     "output_type": "stream",
     "text": [
      "{\n",
      "  \"id\": \"8d53151a-b09c-4753-a6db-e68fcc6d7949\",\n",
      "  \"timestamp\": \"2025-04-13T15:09:49.744084\"\n",
      "}\n"
     ]
    }
   ],
   "source": [
    "from pydantic import BaseModel, Field\n",
    "from uuid import uuid4\n",
    "from datetime import datetime\n",
    "\n",
    "class Request(BaseModel):\n",
    "    id: str = Field(default_factory=lambda: str(uuid4()))\n",
    "    timestamp: datetime = Field(default_factory=datetime.utcnow)\n",
    "\n",
    "req = Request()\n",
    "print(req.model_dump_json(indent=2))"
   ]
  },
  {
   "cell_type": "markdown",
   "id": "ac83a3ab-c836-46c9-93bc-af5feef28718",
   "metadata": {},
   "source": [
    "##  Flexible Input: model_validate()"
   ]
  },
  {
   "cell_type": "code",
   "execution_count": 14,
   "id": "186ae807-b2ba-47d7-b2d8-8964451a5b50",
   "metadata": {},
   "outputs": [
    {
     "name": "stdout",
     "output_type": "stream",
     "text": [
      "question='What is AI?' answer='Artificial Intelligence'\n"
     ]
    }
   ],
   "source": [
    "from pydantic import BaseModel\n",
    "\n",
    "class Question(BaseModel):\n",
    "    question: str\n",
    "    answer: str\n",
    "\n",
    "raw_input = {\"question\": \"What is AI?\", \"answer\": \"Artificial Intelligence\"}\n",
    "\n",
    "q = Question.model_validate(raw_input)\n",
    "print(q)"
   ]
  },
  {
   "cell_type": "markdown",
   "id": "d11f03ff-5f6e-4b58-a337-0b6ca5687463",
   "metadata": {},
   "source": [
    "## Discriminated Unions (LLM tool or API payloads)"
   ]
  },
  {
   "cell_type": "code",
   "execution_count": 16,
   "id": "170c0da9-5150-4603-a6ea-c5c44571f486",
   "metadata": {},
   "outputs": [
    {
     "ename": "AttributeError",
     "evalue": "model_validate",
     "output_type": "error",
     "traceback": [
      "\u001b[1;31m---------------------------------------------------------------------------\u001b[0m",
      "\u001b[1;31mAttributeError\u001b[0m                            Traceback (most recent call last)",
      "Cell \u001b[1;32mIn[16], line 15\u001b[0m\n\u001b[0;32m     12\u001b[0m InputData \u001b[38;5;241m=\u001b[39m Union[TextInput, ImageInput]\n\u001b[0;32m     14\u001b[0m example \u001b[38;5;241m=\u001b[39m {\u001b[38;5;124m\"\u001b[39m\u001b[38;5;124mtype\u001b[39m\u001b[38;5;124m\"\u001b[39m: \u001b[38;5;124m\"\u001b[39m\u001b[38;5;124mimage\u001b[39m\u001b[38;5;124m\"\u001b[39m, \u001b[38;5;124m\"\u001b[39m\u001b[38;5;124murl\u001b[39m\u001b[38;5;124m\"\u001b[39m: \u001b[38;5;124m\"\u001b[39m\u001b[38;5;124mhttp://example.com/image.png\u001b[39m\u001b[38;5;124m\"\u001b[39m}\n\u001b[1;32m---> 15\u001b[0m data \u001b[38;5;241m=\u001b[39m \u001b[43mInputData\u001b[49m\u001b[38;5;241;43m.\u001b[39;49m\u001b[43mmodel_validate\u001b[49m(example)\n\u001b[0;32m     16\u001b[0m \u001b[38;5;28mprint\u001b[39m(data)\n\u001b[0;32m     17\u001b[0m \u001b[38;5;66;03m# Used in LLM tools like LangChain or Semantic Kernel when deciding input modality.\u001b[39;00m\n",
      "File \u001b[1;32m~\\.conda\\envs\\myenv\\Lib\\typing.py:1317\u001b[0m, in \u001b[0;36m_BaseGenericAlias.__getattr__\u001b[1;34m(self, attr)\u001b[0m\n\u001b[0;32m   1314\u001b[0m \u001b[38;5;66;03m# We are careful for copy and pickle.\u001b[39;00m\n\u001b[0;32m   1315\u001b[0m \u001b[38;5;66;03m# Also for simplicity we don't relay any dunder names\u001b[39;00m\n\u001b[0;32m   1316\u001b[0m \u001b[38;5;28;01mif\u001b[39;00m \u001b[38;5;124m'\u001b[39m\u001b[38;5;124m__origin__\u001b[39m\u001b[38;5;124m'\u001b[39m \u001b[38;5;129;01min\u001b[39;00m \u001b[38;5;28mself\u001b[39m\u001b[38;5;241m.\u001b[39m\u001b[38;5;18m__dict__\u001b[39m \u001b[38;5;129;01mand\u001b[39;00m \u001b[38;5;129;01mnot\u001b[39;00m _is_dunder(attr):\n\u001b[1;32m-> 1317\u001b[0m     \u001b[38;5;28;01mreturn\u001b[39;00m \u001b[38;5;28mgetattr\u001b[39m(\u001b[38;5;28mself\u001b[39m\u001b[38;5;241m.\u001b[39m__origin__, attr)\n\u001b[0;32m   1318\u001b[0m \u001b[38;5;28;01mraise\u001b[39;00m \u001b[38;5;167;01mAttributeError\u001b[39;00m(attr)\n",
      "File \u001b[1;32m~\\.conda\\envs\\myenv\\Lib\\typing.py:474\u001b[0m, in \u001b[0;36m_SpecialForm.__getattr__\u001b[1;34m(self, item)\u001b[0m\n\u001b[0;32m    471\u001b[0m \u001b[38;5;28;01mif\u001b[39;00m item \u001b[38;5;129;01min\u001b[39;00m {\u001b[38;5;124m'\u001b[39m\u001b[38;5;124m__name__\u001b[39m\u001b[38;5;124m'\u001b[39m, \u001b[38;5;124m'\u001b[39m\u001b[38;5;124m__qualname__\u001b[39m\u001b[38;5;124m'\u001b[39m}:\n\u001b[0;32m    472\u001b[0m     \u001b[38;5;28;01mreturn\u001b[39;00m \u001b[38;5;28mself\u001b[39m\u001b[38;5;241m.\u001b[39m_name\n\u001b[1;32m--> 474\u001b[0m \u001b[38;5;28;01mraise\u001b[39;00m \u001b[38;5;167;01mAttributeError\u001b[39;00m(item)\n",
      "\u001b[1;31mAttributeError\u001b[0m: model_validate"
     ]
    }
   ],
   "source": [
    "from pydantic import BaseModel, Field\n",
    "from typing import Union, Literal\n",
    "\n",
    "class TextInput(BaseModel):\n",
    "    type: Literal[\"text\"]\n",
    "    content: str\n",
    "\n",
    "class ImageInput(BaseModel):\n",
    "    type: Literal[\"image\"]\n",
    "    url: str\n",
    "\n",
    "InputData = Union[TextInput, ImageInput]\n",
    "\n",
    "example = {\"type\": \"image\", \"url\": \"http://example.com/image.png\"}\n",
    "data = InputData.model_validate(example)\n",
    "print(data)\n",
    "# Used in LLM tools like LangChain or Semantic Kernel when deciding input modality."
   ]
  },
  {
   "cell_type": "markdown",
   "id": "73c99b61-677c-47ca-b748-1a1d8d42f79e",
   "metadata": {},
   "source": [
    "## Model Composition / ConfigDict & computed_fields\n"
   ]
  },
  {
   "cell_type": "code",
   "execution_count": 17,
   "id": "bcef572e-00d7-4503-b76b-5e8fa46588b8",
   "metadata": {},
   "outputs": [
    {
     "name": "stdout",
     "output_type": "stream",
     "text": [
      "60.0\n"
     ]
    }
   ],
   "source": [
    "from pydantic import BaseModel, computed_field\n",
    "\n",
    "class Order(BaseModel):\n",
    "    price_per_unit: float\n",
    "    quantity: int\n",
    "\n",
    "    @computed_field\n",
    "    def total(self) -> float:\n",
    "        return self.price_per_unit * self.quantity\n",
    "\n",
    "order = Order(price_per_unit=20, quantity=3)\n",
    "print(order.total)  # 60"
   ]
  },
  {
   "cell_type": "markdown",
   "id": "ad45b0bf-6657-4cf6-a401-6bd2c186dff2",
   "metadata": {},
   "source": [
    "## Custom Data Cleaning via model_post_init"
   ]
  },
  {
   "cell_type": "code",
   "execution_count": 18,
   "id": "f906d5f0-45f4-452a-8169-5a3fd9aad827",
   "metadata": {},
   "outputs": [
    {
     "name": "stdout",
     "output_type": "stream",
     "text": [
      "hello world\n"
     ]
    }
   ],
   "source": [
    "from pydantic import BaseModel\n",
    "\n",
    "class CleanedText(BaseModel):\n",
    "    text: str\n",
    "\n",
    "    def model_post_init(self, __context):\n",
    "        self.text = self.text.strip().lower()\n",
    "\n",
    "data = CleanedText(text=\"   HeLLo World  \")\n",
    "print(data.text)  # 'hello world'"
   ]
  },
  {
   "cell_type": "markdown",
   "id": "e800de77-96fd-49a8-a325-0cc3dbac0e59",
   "metadata": {},
   "source": [
    "## Recursive / Tree Structures (useful in prompt tree parsing)"
   ]
  },
  {
   "cell_type": "code",
   "execution_count": 19,
   "id": "f126539a-d5c4-48a6-a38f-027d32683d32",
   "metadata": {},
   "outputs": [
    {
     "name": "stdout",
     "output_type": "stream",
     "text": [
      "{\n",
      "  \"name\": \"root\",\n",
      "  \"children\": [\n",
      "    {\n",
      "      \"name\": \"child1\",\n",
      "      \"children\": null\n",
      "    },\n",
      "    {\n",
      "      \"name\": \"child2\",\n",
      "      \"children\": [\n",
      "        {\n",
      "          \"name\": \"grandchild1\",\n",
      "          \"children\": null\n",
      "        }\n",
      "      ]\n",
      "    }\n",
      "  ]\n",
      "}\n"
     ]
    }
   ],
   "source": [
    "from typing import List, Optional\n",
    "from pydantic import BaseModel\n",
    "\n",
    "class Node(BaseModel):\n",
    "    name: str\n",
    "    children: Optional[List[\"Node\"]] = None\n",
    "\n",
    "Node.model_rebuild()\n",
    "\n",
    "tree = Node(name=\"root\", children=[\n",
    "    Node(name=\"child1\"),\n",
    "    Node(name=\"child2\", children=[\n",
    "        Node(name=\"grandchild1\")\n",
    "    ])\n",
    "])\n",
    "print(tree.model_dump_json(indent=2))"
   ]
  },
  {
   "cell_type": "markdown",
   "id": "286da3bd-5836-4eef-bdcb-4d8a4d11c051",
   "metadata": {},
   "source": [
    "## Parsing from JSON or YAML files"
   ]
  },
  {
   "cell_type": "code",
   "execution_count": 20,
   "id": "1d9be65c-3db7-4a29-a517-ce30a416c203",
   "metadata": {},
   "outputs": [
    {
     "ename": "FileNotFoundError",
     "evalue": "[Errno 2] No such file or directory: 'config.json'",
     "output_type": "error",
     "traceback": [
      "\u001b[1;31m---------------------------------------------------------------------------\u001b[0m",
      "\u001b[1;31mFileNotFoundError\u001b[0m                         Traceback (most recent call last)",
      "Cell \u001b[1;32mIn[20], line 9\u001b[0m\n\u001b[0;32m      6\u001b[0m     temperature: \u001b[38;5;28mfloat\u001b[39m\n\u001b[0;32m      7\u001b[0m     top_p: \u001b[38;5;28mfloat\u001b[39m\n\u001b[1;32m----> 9\u001b[0m \u001b[38;5;28;01mwith\u001b[39;00m \u001b[38;5;28;43mopen\u001b[39;49m\u001b[43m(\u001b[49m\u001b[38;5;124;43m\"\u001b[39;49m\u001b[38;5;124;43mconfig.json\u001b[39;49m\u001b[38;5;124;43m\"\u001b[39;49m\u001b[43m)\u001b[49m \u001b[38;5;28;01mas\u001b[39;00m f:\n\u001b[0;32m     10\u001b[0m     cfg \u001b[38;5;241m=\u001b[39m Config\u001b[38;5;241m.\u001b[39mmodel_validate(json\u001b[38;5;241m.\u001b[39mload(f))\n\u001b[0;32m     12\u001b[0m \u001b[38;5;28mprint\u001b[39m(cfg)\n",
      "File \u001b[1;32m~\\.conda\\envs\\myenv\\Lib\\site-packages\\IPython\\core\\interactiveshell.py:324\u001b[0m, in \u001b[0;36m_modified_open\u001b[1;34m(file, *args, **kwargs)\u001b[0m\n\u001b[0;32m    317\u001b[0m \u001b[38;5;28;01mif\u001b[39;00m file \u001b[38;5;129;01min\u001b[39;00m {\u001b[38;5;241m0\u001b[39m, \u001b[38;5;241m1\u001b[39m, \u001b[38;5;241m2\u001b[39m}:\n\u001b[0;32m    318\u001b[0m     \u001b[38;5;28;01mraise\u001b[39;00m \u001b[38;5;167;01mValueError\u001b[39;00m(\n\u001b[0;32m    319\u001b[0m         \u001b[38;5;124mf\u001b[39m\u001b[38;5;124m\"\u001b[39m\u001b[38;5;124mIPython won\u001b[39m\u001b[38;5;124m'\u001b[39m\u001b[38;5;124mt let you open fd=\u001b[39m\u001b[38;5;132;01m{\u001b[39;00mfile\u001b[38;5;132;01m}\u001b[39;00m\u001b[38;5;124m by default \u001b[39m\u001b[38;5;124m\"\u001b[39m\n\u001b[0;32m    320\u001b[0m         \u001b[38;5;124m\"\u001b[39m\u001b[38;5;124mas it is likely to crash IPython. If you know what you are doing, \u001b[39m\u001b[38;5;124m\"\u001b[39m\n\u001b[0;32m    321\u001b[0m         \u001b[38;5;124m\"\u001b[39m\u001b[38;5;124myou can use builtins\u001b[39m\u001b[38;5;124m'\u001b[39m\u001b[38;5;124m open.\u001b[39m\u001b[38;5;124m\"\u001b[39m\n\u001b[0;32m    322\u001b[0m     )\n\u001b[1;32m--> 324\u001b[0m \u001b[38;5;28;01mreturn\u001b[39;00m \u001b[43mio_open\u001b[49m\u001b[43m(\u001b[49m\u001b[43mfile\u001b[49m\u001b[43m,\u001b[49m\u001b[43m \u001b[49m\u001b[38;5;241;43m*\u001b[39;49m\u001b[43margs\u001b[49m\u001b[43m,\u001b[49m\u001b[43m \u001b[49m\u001b[38;5;241;43m*\u001b[39;49m\u001b[38;5;241;43m*\u001b[39;49m\u001b[43mkwargs\u001b[49m\u001b[43m)\u001b[49m\n",
      "\u001b[1;31mFileNotFoundError\u001b[0m: [Errno 2] No such file or directory: 'config.json'"
     ]
    }
   ],
   "source": [
    "import json\n",
    "from pydantic import BaseModel\n",
    "\n",
    "class Config(BaseModel):\n",
    "    model_name: str\n",
    "    temperature: float\n",
    "    top_p: float\n",
    "\n",
    "with open(\"config.json\") as f:\n",
    "    cfg = Config.model_validate(json.load(f))\n",
    "\n",
    "print(cfg)"
   ]
  },
  {
   "cell_type": "markdown",
   "id": "9c4503c7-1423-4a7f-8863-7da0aabd5e7f",
   "metadata": {},
   "source": [
    "## Serialization for APIs or LLM Logs"
   ]
  },
  {
   "cell_type": "code",
   "execution_count": 21,
   "id": "62363dfd-6f47-4af4-ae46-a59012d22908",
   "metadata": {},
   "outputs": [],
   "source": [
    "log = {\n",
    "    \"prompt\": \"What is machine learning?\",\n",
    "    \"response\": \"Machine learning is a branch of AI...\"\n",
    "}\n",
    "\n",
    "class LogEntry(BaseModel):\n",
    "    prompt: str\n",
    "    response: str\n",
    "\n",
    "entry = LogEntry(**log)\n",
    "with open(\"log.jsonl\", \"a\") as f:\n",
    "    f.write(entry.model_dump_json() + \"\\n\")\n"
   ]
  },
  {
   "cell_type": "markdown",
   "id": "f5ed8cb5-008e-4db8-9087-16567087eec6",
   "metadata": {},
   "source": [
    "##  Pydantic Example: Email Input Model"
   ]
  },
  {
   "cell_type": "code",
   "execution_count": 26,
   "id": "b752939c-8d64-46e0-b7b1-a8a11ee6c192",
   "metadata": {},
   "outputs": [
    {
     "name": "stdout",
     "output_type": "stream",
     "text": [
      "{\n",
      "  \"id\": \"email-001\",\n",
      "  \"sender\": {\n",
      "    \"name\": \"Alice\",\n",
      "    \"email\": \"alice@example.com\"\n",
      "  },\n",
      "  \"subject\": \"Urgent Issue With Payment\",\n",
      "  \"body\": \"Hi, I noticed an error in my last invoice. Please fix it ASAP.\",\n",
      "  \"received_at\": \"2025-04-13T15:18:05.158593\",\n",
      "  \"tags\": [\n",
      "    \"finance\",\n",
      "    \"bug\"\n",
      "  ],\n",
      "  \"priority\": \"high\",\n",
      "  \"preview\": \"Hi, I noticed an error in my last invoice. Please fix it ASA...\"\n",
      "}\n"
     ]
    }
   ],
   "source": [
    "from pydantic import BaseModel, Field, EmailStr, computed_field\n",
    "from typing import Optional, List\n",
    "from datetime import datetime\n",
    "\n",
    "# 🔹 Nested model for sender\n",
    "class SenderInfo(BaseModel):\n",
    "    name: Optional[str] = None\n",
    "    email: EmailStr\n",
    "\n",
    "# 🔹 Main model for Email input\n",
    "class EmailData(BaseModel):\n",
    "    id: str\n",
    "    sender: SenderInfo\n",
    "    subject: str\n",
    "    body: str\n",
    "    received_at: datetime = Field(default_factory=datetime.utcnow)\n",
    "    tags: List[str] = Field(default_factory=list)\n",
    "    priority: Optional[str] = Field(default=None, description=\"low | medium | high\")\n",
    "\n",
    "    # 🔹 Post init to sanitize subject/body (trim whitespace, normalize case)\n",
    "    def model_post_init(self, __context):\n",
    "        self.subject = self.subject.strip().title()\n",
    "        self.body = self.body.strip()\n",
    "\n",
    "        # Auto-set priority if body contains urgent keywords\n",
    "        if not self.priority:\n",
    "            if any(keyword in self.body.lower() for keyword in ['urgent', 'asap', 'immediately']):\n",
    "                self.priority = \"high\"\n",
    "            else:\n",
    "                self.priority = \"low\"\n",
    "\n",
    "    # 🔹 Computed field for short preview\n",
    "    @computed_field\n",
    "    def preview(self) -> str:\n",
    "        return self.body[:60] + \"...\" if len(self.body) > 60 else self.body\n",
    "\n",
    "    # 🔹 Add custom method to auto-tag\n",
    "    def auto_tag(self):\n",
    "        keywords = {\n",
    "            \"payment\": \"finance\",\n",
    "            \"invoice\": \"finance\",\n",
    "            \"meeting\": \"calendar\",\n",
    "            \"support\": \"helpdesk\",\n",
    "            \"error\": \"bug\"\n",
    "        }\n",
    "        for word, tag in keywords.items():\n",
    "            if word in self.body.lower() and tag not in self.tags:\n",
    "                self.tags.append(tag)\n",
    "\n",
    "# 🔸 Example usage\n",
    "email_input = {\n",
    "    \"id\": \"email-001\",\n",
    "    \"sender\": {\"name\": \"Alice\", \"email\": \"alice@example.com\"},\n",
    "    \"subject\": \"   urgent issue with payment \",\n",
    "    \"body\": \"Hi, I noticed an error in my last invoice. Please fix it ASAP.\"\n",
    "}\n",
    "\n",
    "email = EmailData.model_validate(email_input)\n",
    "email.auto_tag()  # simulate tagging after validation\n",
    "\n",
    "# 🔸 Output result\n",
    "print(email.model_dump_json(indent=2))"
   ]
  },
  {
   "cell_type": "markdown",
   "id": "8edaae5e-0a29-4809-ad9d-54c4bc11e22c",
   "metadata": {},
   "source": [
    "## Pydantic Model for ML Classification Input"
   ]
  },
  {
   "cell_type": "code",
   "execution_count": 27,
   "id": "40ba376a-670e-4efd-8354-c9a92905d146",
   "metadata": {},
   "outputs": [
    {
     "name": "stderr",
     "output_type": "stream",
     "text": [
      "C:\\Users\\Abhishek Jaiswal\\.conda\\envs\\myenv\\Lib\\site-packages\\pydantic\\_internal\\_config.py:345: UserWarning: Valid config keys have changed in V2:\n",
      "* 'schema_extra' has been renamed to 'json_schema_extra'\n",
      "  warnings.warn(message, UserWarning)\n"
     ]
    }
   ],
   "source": [
    "from pydantic import BaseModel, Field, conint, confloat\n",
    "from typing import Optional\n",
    "\n",
    "\n",
    "class CustomerInput(BaseModel):\n",
    "    age: conint(ge=18, le=100) = Field(..., description=\"Customer age in years\", example=35)\n",
    "    monthly_income: confloat(ge=0.0, le=100000.0) = Field(..., description=\"Monthly income in USD\", example=4500.0)\n",
    "    account_age_months: conint(ge=0, le=240) = Field(..., description=\"Number of months customer has had the account\", example=36)\n",
    "    contacted_support_last_30_days: bool = Field(False, description=\"Has the customer contacted support in last 30 days?\")\n",
    "    num_transactions_last_month: Optional[conint(ge=0, le=1000)] = Field(0, description=\"Number of transactions last month\", example=25)\n",
    "    satisfaction_score: Optional[confloat(ge=0.0, le=1.0)] = Field(0.7, description=\"Customer satisfaction score (0 to 1 scale)\")\n",
    "\n",
    "    class Config:\n",
    "        schema_extra = {\n",
    "            \"example\": {\n",
    "                \"age\": 45,\n",
    "                \"monthly_income\": 5500.0,\n",
    "                \"account_age_months\": 48,\n",
    "                \"contacted_support_last_30_days\": False,\n",
    "                \"num_transactions_last_month\": 20,\n",
    "                \"satisfaction_score\": 0.82\n",
    "            }\n",
    "        }"
   ]
  },
  {
   "cell_type": "code",
   "execution_count": null,
   "id": "1fb7a20d-475c-487b-bc83-3a332f19515f",
   "metadata": {},
   "outputs": [],
   "source": [
    "from fastapi import FastAPI\n",
    "from model import CustomerInput  # assuming it's saved in model.py\n",
    "\n",
    "app = FastAPI()\n",
    "\n",
    "@app.post(\"/predict\")\n",
    "def predict(input: CustomerInput):\n",
    "    # preprocess and pass to ML model\n",
    "    return {\"message\": \"Prediction done!\", \"input\": input}"
   ]
  },
  {
   "cell_type": "code",
   "execution_count": null,
   "id": "017441bd-ac9b-4046-a6f1-185370008b4e",
   "metadata": {},
   "outputs": [],
   "source": []
  }
 ],
 "metadata": {
  "kernelspec": {
   "display_name": "Python 3 (ipykernel)",
   "language": "python",
   "name": "python3"
  },
  "language_info": {
   "codemirror_mode": {
    "name": "ipython",
    "version": 3
   },
   "file_extension": ".py",
   "mimetype": "text/x-python",
   "name": "python",
   "nbconvert_exporter": "python",
   "pygments_lexer": "ipython3",
   "version": "3.11.11"
  }
 },
 "nbformat": 4,
 "nbformat_minor": 5
}
